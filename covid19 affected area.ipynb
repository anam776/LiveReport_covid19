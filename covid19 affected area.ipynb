{
 "cells": [
  {
   "cell_type": "code",
   "execution_count": 1,
   "metadata": {},
   "outputs": [],
   "source": [
    "import pandas as pd \n",
    "\n",
    "#import data of Logitude and latitude of States\n",
    "dataset = pd.read_html(\"http://www.quickgs.com/latitudinal-and-longitudinal-extents-of-india-indian-states-and-cities/\") \n"
   ]
  },
  {
   "cell_type": "code",
   "execution_count": 2,
   "metadata": {},
   "outputs": [
    {
     "data": {
      "text/plain": [
       "pandas.core.frame.DataFrame"
      ]
     },
     "execution_count": 2,
     "metadata": {},
     "output_type": "execute_result"
    }
   ],
   "source": [
    "dataset= pd.DataFrame(dataset[0])\n",
    "\n",
    "type(dataset)"
   ]
  },
  {
   "cell_type": "code",
   "execution_count": 3,
   "metadata": {},
   "outputs": [],
   "source": [
    "def data_cor(cord):\n",
    "    return cord[0:5]"
   ]
  },
  {
   "cell_type": "code",
   "execution_count": 4,
   "metadata": {},
   "outputs": [
    {
     "data": {
      "text/plain": [
       "Index(['State', 'Latitude', 'Longitude'], dtype='object')"
      ]
     },
     "execution_count": 4,
     "metadata": {},
     "output_type": "execute_result"
    }
   ],
   "source": [
    "dataset.columns"
   ]
  },
  {
   "cell_type": "code",
   "execution_count": 5,
   "metadata": {},
   "outputs": [],
   "source": [
    "dataset['Latitude'] = dataset['Latitude'].apply(data_cor)\n",
    "dataset['Latitude']\n",
    "dataset['Longitude'] = dataset['Longitude'].apply(data_cor)\n",
    "dataset['Latitude'] = dataset['Latitude'].astype('float')\n",
    "dataset['Longitude'] = dataset['Longitude'].astype('float')"
   ]
  },
  {
   "cell_type": "code",
   "execution_count": 6,
   "metadata": {},
   "outputs": [
    {
     "data": {
      "text/html": [
       "<div>\n",
       "<style scoped>\n",
       "    .dataframe tbody tr th:only-of-type {\n",
       "        vertical-align: middle;\n",
       "    }\n",
       "\n",
       "    .dataframe tbody tr th {\n",
       "        vertical-align: top;\n",
       "    }\n",
       "\n",
       "    .dataframe thead th {\n",
       "        text-align: right;\n",
       "    }\n",
       "</style>\n",
       "<table border=\"1\" class=\"dataframe\">\n",
       "  <thead>\n",
       "    <tr style=\"text-align: right;\">\n",
       "      <th></th>\n",
       "      <th>Latitude</th>\n",
       "      <th>Longitude</th>\n",
       "    </tr>\n",
       "  </thead>\n",
       "  <tbody>\n",
       "    <tr>\n",
       "      <th>0</th>\n",
       "      <td>15.91</td>\n",
       "      <td>79.74</td>\n",
       "    </tr>\n",
       "    <tr>\n",
       "      <th>1</th>\n",
       "      <td>28.21</td>\n",
       "      <td>94.72</td>\n",
       "    </tr>\n",
       "    <tr>\n",
       "      <th>2</th>\n",
       "      <td>26.20</td>\n",
       "      <td>92.93</td>\n",
       "    </tr>\n",
       "    <tr>\n",
       "      <th>3</th>\n",
       "      <td>25.09</td>\n",
       "      <td>85.31</td>\n",
       "    </tr>\n",
       "    <tr>\n",
       "      <th>4</th>\n",
       "      <td>21.27</td>\n",
       "      <td>81.86</td>\n",
       "    </tr>\n",
       "    <tr>\n",
       "      <th>5</th>\n",
       "      <td>15.29</td>\n",
       "      <td>74.12</td>\n",
       "    </tr>\n",
       "    <tr>\n",
       "      <th>6</th>\n",
       "      <td>22.25</td>\n",
       "      <td>71.19</td>\n",
       "    </tr>\n",
       "    <tr>\n",
       "      <th>7</th>\n",
       "      <td>29.05</td>\n",
       "      <td>76.08</td>\n",
       "    </tr>\n",
       "    <tr>\n",
       "      <th>8</th>\n",
       "      <td>31.10</td>\n",
       "      <td>77.17</td>\n",
       "    </tr>\n",
       "    <tr>\n",
       "      <th>9</th>\n",
       "      <td>33.77</td>\n",
       "      <td>76.57</td>\n",
       "    </tr>\n",
       "    <tr>\n",
       "      <th>10</th>\n",
       "      <td>23.61</td>\n",
       "      <td>85.27</td>\n",
       "    </tr>\n",
       "    <tr>\n",
       "      <th>11</th>\n",
       "      <td>15.31</td>\n",
       "      <td>75.71</td>\n",
       "    </tr>\n",
       "    <tr>\n",
       "      <th>12</th>\n",
       "      <td>10.85</td>\n",
       "      <td>76.27</td>\n",
       "    </tr>\n",
       "    <tr>\n",
       "      <th>13</th>\n",
       "      <td>22.97</td>\n",
       "      <td>78.65</td>\n",
       "    </tr>\n",
       "    <tr>\n",
       "      <th>14</th>\n",
       "      <td>19.75</td>\n",
       "      <td>75.71</td>\n",
       "    </tr>\n",
       "    <tr>\n",
       "      <th>15</th>\n",
       "      <td>24.66</td>\n",
       "      <td>93.90</td>\n",
       "    </tr>\n",
       "    <tr>\n",
       "      <th>16</th>\n",
       "      <td>25.46</td>\n",
       "      <td>91.36</td>\n",
       "    </tr>\n",
       "    <tr>\n",
       "      <th>17</th>\n",
       "      <td>23.16</td>\n",
       "      <td>92.93</td>\n",
       "    </tr>\n",
       "    <tr>\n",
       "      <th>18</th>\n",
       "      <td>26.15</td>\n",
       "      <td>94.56</td>\n",
       "    </tr>\n",
       "    <tr>\n",
       "      <th>19</th>\n",
       "      <td>20.95</td>\n",
       "      <td>85.09</td>\n",
       "    </tr>\n",
       "    <tr>\n",
       "      <th>20</th>\n",
       "      <td>31.14</td>\n",
       "      <td>75.34</td>\n",
       "    </tr>\n",
       "    <tr>\n",
       "      <th>21</th>\n",
       "      <td>27.02</td>\n",
       "      <td>74.21</td>\n",
       "    </tr>\n",
       "    <tr>\n",
       "      <th>22</th>\n",
       "      <td>27.53</td>\n",
       "      <td>88.51</td>\n",
       "    </tr>\n",
       "    <tr>\n",
       "      <th>23</th>\n",
       "      <td>11.12</td>\n",
       "      <td>78.65</td>\n",
       "    </tr>\n",
       "    <tr>\n",
       "      <th>24</th>\n",
       "      <td>23.94</td>\n",
       "      <td>91.98</td>\n",
       "    </tr>\n",
       "    <tr>\n",
       "      <th>25</th>\n",
       "      <td>30.06</td>\n",
       "      <td>79.01</td>\n",
       "    </tr>\n",
       "    <tr>\n",
       "      <th>26</th>\n",
       "      <td>26.84</td>\n",
       "      <td>80.94</td>\n",
       "    </tr>\n",
       "    <tr>\n",
       "      <th>27</th>\n",
       "      <td>22.98</td>\n",
       "      <td>87.85</td>\n",
       "    </tr>\n",
       "  </tbody>\n",
       "</table>\n",
       "</div>"
      ],
      "text/plain": [
       "    Latitude  Longitude\n",
       "0      15.91      79.74\n",
       "1      28.21      94.72\n",
       "2      26.20      92.93\n",
       "3      25.09      85.31\n",
       "4      21.27      81.86\n",
       "5      15.29      74.12\n",
       "6      22.25      71.19\n",
       "7      29.05      76.08\n",
       "8      31.10      77.17\n",
       "9      33.77      76.57\n",
       "10     23.61      85.27\n",
       "11     15.31      75.71\n",
       "12     10.85      76.27\n",
       "13     22.97      78.65\n",
       "14     19.75      75.71\n",
       "15     24.66      93.90\n",
       "16     25.46      91.36\n",
       "17     23.16      92.93\n",
       "18     26.15      94.56\n",
       "19     20.95      85.09\n",
       "20     31.14      75.34\n",
       "21     27.02      74.21\n",
       "22     27.53      88.51\n",
       "23     11.12      78.65\n",
       "24     23.94      91.98\n",
       "25     30.06      79.01\n",
       "26     26.84      80.94\n",
       "27     22.98      87.85"
      ]
     },
     "execution_count": 6,
     "metadata": {},
     "output_type": "execute_result"
    }
   ],
   "source": [
    "dataset[['Latitude','Longitude']]"
   ]
  },
  {
   "cell_type": "code",
   "execution_count": 7,
   "metadata": {},
   "outputs": [
    {
     "data": {
      "text/plain": [
       "State         object\n",
       "Latitude     float64\n",
       "Longitude    float64\n",
       "dtype: object"
      ]
     },
     "execution_count": 7,
     "metadata": {},
     "output_type": "execute_result"
    }
   ],
   "source": [
    "dataset.dtypes"
   ]
  },
  {
   "cell_type": "code",
   "execution_count": 29,
   "metadata": {},
   "outputs": [],
   "source": [
    "place = dataset[['Latitude','Longitude']]"
   ]
  },
  {
   "cell_type": "code",
   "execution_count": 30,
   "metadata": {},
   "outputs": [],
   "source": [
    "place = place.values"
   ]
  },
  {
   "cell_type": "code",
   "execution_count": 31,
   "metadata": {},
   "outputs": [],
   "source": [
    "place = place.tolist()"
   ]
  },
  {
   "cell_type": "code",
   "execution_count": 35,
   "metadata": {},
   "outputs": [
    {
     "data": {
      "text/plain": [
       "list"
      ]
     },
     "execution_count": 35,
     "metadata": {},
     "output_type": "execute_result"
    }
   ],
   "source": [
    "type(place)"
   ]
  },
  {
   "cell_type": "code",
   "execution_count": 36,
   "metadata": {},
   "outputs": [],
   "source": [
    "import folium"
   ]
  },
  {
   "cell_type": "code",
   "execution_count": 37,
   "metadata": {},
   "outputs": [],
   "source": [
    "india = folium.Map(location = [20.5937,78.9629],zoom_start=4.5) \n"
   ]
  },
  {
   "cell_type": "code",
   "execution_count": 40,
   "metadata": {},
   "outputs": [
    {
     "name": "stdout",
     "output_type": "stream",
     "text": [
      "<folium.folium.Map object at 0x000001AE5123F208>\n"
     ]
    }
   ],
   "source": [
    "for i in place:\n",
    "    \n",
    "    folium.Marker(location=i).add_to(india)\n",
    "    \n",
    "print(india)\n",
    "    "
   ]
  },
  {
   "cell_type": "code",
   "execution_count": 41,
   "metadata": {},
   "outputs": [
    {
     "data": {
      "text/html": [
       "<div style=\"width:100%;\"><div style=\"position:relative;width:100%;height:0;padding-bottom:60%;\"><span style=\"color:#565656\">Make this Notebook Trusted to load map: File -> Trust Notebook</span><iframe src=\"about:blank\" style=\"position:absolute;width:100%;height:100%;left:0;top:0;border:none !important;\" data-html=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 onload=\"this.contentDocument.open();this.contentDocument.write(atob(this.getAttribute('data-html')));this.contentDocument.close();\" allowfullscreen webkitallowfullscreen mozallowfullscreen></iframe></div></div>"
      ],
      "text/plain": [
       "<folium.folium.Map at 0x1ae5123f208>"
      ]
     },
     "execution_count": 41,
     "metadata": {},
     "output_type": "execute_result"
    }
   ],
   "source": [
    "india"
   ]
  },
  {
   "cell_type": "code",
   "execution_count": 42,
   "metadata": {},
   "outputs": [
    {
     "data": {
      "text/plain": [
       "1"
      ]
     },
     "execution_count": 42,
     "metadata": {},
     "output_type": "execute_result"
    }
   ],
   "source": [
    "\n",
    "info2= pd.read_html('https://en.wikipedia.org/wiki/COVID-19_pandemic_in_India#covid19-container',match='State/Union Territory')\n",
    "len(info2)"
   ]
  },
  {
   "cell_type": "code",
   "execution_count": 43,
   "metadata": {},
   "outputs": [],
   "source": [
    "covid19 = pd.DataFrame(info2[0])"
   ]
  },
  {
   "cell_type": "code",
   "execution_count": 44,
   "metadata": {},
   "outputs": [
    {
     "data": {
      "text/plain": [
       "MultiIndex([('[show all]viewtalkeditCOVID-19 pandemic in India by state and union territory', ...),\n",
       "            ('[show all]viewtalkeditCOVID-19 pandemic in India by state and union territory', ...),\n",
       "            ('[show all]viewtalkeditCOVID-19 pandemic in India by state and union territory', ...),\n",
       "            ('[show all]viewtalkeditCOVID-19 pandemic in India by state and union territory', ...),\n",
       "            ('[show all]viewtalkeditCOVID-19 pandemic in India by state and union territory', ...),\n",
       "            ('[show all]viewtalkeditCOVID-19 pandemic in India by state and union territory', ...),\n",
       "            ('[show all]viewtalkeditCOVID-19 pandemic in India by state and union territory', ...),\n",
       "            ('[show all]viewtalkeditCOVID-19 pandemic in India by state and union territory', ...),\n",
       "            ('[show all]viewtalkeditCOVID-19 pandemic in India by state and union territory', ...)],\n",
       "           )"
      ]
     },
     "execution_count": 44,
     "metadata": {},
     "output_type": "execute_result"
    }
   ],
   "source": [
    "covid19.columns"
   ]
  },
  {
   "cell_type": "code",
   "execution_count": 45,
   "metadata": {},
   "outputs": [],
   "source": [
    "\n",
    "covid19 = covid19.iloc[:-3,:5]"
   ]
  },
  {
   "cell_type": "code",
   "execution_count": 46,
   "metadata": {},
   "outputs": [],
   "source": [
    "covid19.columns = ['State','Total cases','Deaths','Recoveries','Active cases']\n"
   ]
  },
  {
   "cell_type": "code",
   "execution_count": 47,
   "metadata": {},
   "outputs": [
    {
     "data": {
      "text/html": [
       "<div>\n",
       "<style scoped>\n",
       "    .dataframe tbody tr th:only-of-type {\n",
       "        vertical-align: middle;\n",
       "    }\n",
       "\n",
       "    .dataframe tbody tr th {\n",
       "        vertical-align: top;\n",
       "    }\n",
       "\n",
       "    .dataframe thead th {\n",
       "        text-align: right;\n",
       "    }\n",
       "</style>\n",
       "<table border=\"1\" class=\"dataframe\">\n",
       "  <thead>\n",
       "    <tr style=\"text-align: right;\">\n",
       "      <th></th>\n",
       "      <th>State</th>\n",
       "      <th>Total cases</th>\n",
       "      <th>Deaths</th>\n",
       "      <th>Recoveries</th>\n",
       "      <th>Active cases</th>\n",
       "    </tr>\n",
       "  </thead>\n",
       "  <tbody>\n",
       "    <tr>\n",
       "      <th>0</th>\n",
       "      <td>Andaman and Nicobar Islands</td>\n",
       "      <td>109</td>\n",
       "      <td>0</td>\n",
       "      <td>51</td>\n",
       "      <td>58</td>\n",
       "    </tr>\n",
       "    <tr>\n",
       "      <th>1</th>\n",
       "      <td>Andhra Pradesh</td>\n",
       "      <td>16097</td>\n",
       "      <td>198</td>\n",
       "      <td>7313</td>\n",
       "      <td>8586</td>\n",
       "    </tr>\n",
       "    <tr>\n",
       "      <th>2</th>\n",
       "      <td>Arunachal Pradesh</td>\n",
       "      <td>195</td>\n",
       "      <td>1</td>\n",
       "      <td>66</td>\n",
       "      <td>128</td>\n",
       "    </tr>\n",
       "    <tr>\n",
       "      <th>3</th>\n",
       "      <td>Assam</td>\n",
       "      <td>9,013[b]</td>\n",
       "      <td>12</td>\n",
       "      <td>6106</td>\n",
       "      <td>2895</td>\n",
       "    </tr>\n",
       "    <tr>\n",
       "      <th>4</th>\n",
       "      <td>Bihar</td>\n",
       "      <td>10471</td>\n",
       "      <td>77</td>\n",
       "      <td>8020</td>\n",
       "      <td>2374</td>\n",
       "    </tr>\n",
       "    <tr>\n",
       "      <th>5</th>\n",
       "      <td>Chandigarh</td>\n",
       "      <td>450</td>\n",
       "      <td>6</td>\n",
       "      <td>389</td>\n",
       "      <td>55</td>\n",
       "    </tr>\n",
       "    <tr>\n",
       "      <th>6</th>\n",
       "      <td>Chhattisgarh</td>\n",
       "      <td>3013</td>\n",
       "      <td>14</td>\n",
       "      <td>2385</td>\n",
       "      <td>614</td>\n",
       "    </tr>\n",
       "    <tr>\n",
       "      <th>7</th>\n",
       "      <td>Dadra and Nagar Haveli and Daman and Diu</td>\n",
       "      <td>230</td>\n",
       "      <td>0</td>\n",
       "      <td>89</td>\n",
       "      <td>141</td>\n",
       "    </tr>\n",
       "    <tr>\n",
       "      <th>8</th>\n",
       "      <td>Delhi</td>\n",
       "      <td>92175</td>\n",
       "      <td>2864</td>\n",
       "      <td>63007</td>\n",
       "      <td>26304</td>\n",
       "    </tr>\n",
       "    <tr>\n",
       "      <th>9</th>\n",
       "      <td>Goa</td>\n",
       "      <td>1482</td>\n",
       "      <td>4</td>\n",
       "      <td>734</td>\n",
       "      <td>744</td>\n",
       "    </tr>\n",
       "    <tr>\n",
       "      <th>10</th>\n",
       "      <td>Gujarat</td>\n",
       "      <td>33913</td>\n",
       "      <td>1886</td>\n",
       "      <td>24593</td>\n",
       "      <td>7434</td>\n",
       "    </tr>\n",
       "    <tr>\n",
       "      <th>11</th>\n",
       "      <td>Haryana</td>\n",
       "      <td>15509</td>\n",
       "      <td>251</td>\n",
       "      <td>11019</td>\n",
       "      <td>4239</td>\n",
       "    </tr>\n",
       "    <tr>\n",
       "      <th>12</th>\n",
       "      <td>Himachal Pradesh</td>\n",
       "      <td>1014</td>\n",
       "      <td>10</td>\n",
       "      <td>628</td>\n",
       "      <td>376</td>\n",
       "    </tr>\n",
       "    <tr>\n",
       "      <th>13</th>\n",
       "      <td>Jammu and Kashmir</td>\n",
       "      <td>7849</td>\n",
       "      <td>115</td>\n",
       "      <td>4974</td>\n",
       "      <td>2760</td>\n",
       "    </tr>\n",
       "    <tr>\n",
       "      <th>14</th>\n",
       "      <td>Jharkhand</td>\n",
       "      <td>2584</td>\n",
       "      <td>15</td>\n",
       "      <td>1983</td>\n",
       "      <td>586</td>\n",
       "    </tr>\n",
       "    <tr>\n",
       "      <th>15</th>\n",
       "      <td>Karnataka</td>\n",
       "      <td>18016</td>\n",
       "      <td>272</td>\n",
       "      <td>8334</td>\n",
       "      <td>9410</td>\n",
       "    </tr>\n",
       "    <tr>\n",
       "      <th>16</th>\n",
       "      <td>Kerala</td>\n",
       "      <td>4753</td>\n",
       "      <td>25[c]</td>\n",
       "      <td>2640</td>\n",
       "      <td>2088</td>\n",
       "    </tr>\n",
       "    <tr>\n",
       "      <th>17</th>\n",
       "      <td>Ladakh</td>\n",
       "      <td>990</td>\n",
       "      <td>1</td>\n",
       "      <td>730</td>\n",
       "      <td>259</td>\n",
       "    </tr>\n",
       "    <tr>\n",
       "      <th>18</th>\n",
       "      <td>Lakshadweep</td>\n",
       "      <td>0</td>\n",
       "      <td>0</td>\n",
       "      <td>0</td>\n",
       "      <td>0</td>\n",
       "    </tr>\n",
       "    <tr>\n",
       "      <th>19</th>\n",
       "      <td>Madhya Pradesh</td>\n",
       "      <td>14106</td>\n",
       "      <td>589</td>\n",
       "      <td>10815</td>\n",
       "      <td>2702</td>\n",
       "    </tr>\n",
       "    <tr>\n",
       "      <th>20</th>\n",
       "      <td>Maharashtra</td>\n",
       "      <td>186626</td>\n",
       "      <td>8178</td>\n",
       "      <td>101172</td>\n",
       "      <td>77276</td>\n",
       "    </tr>\n",
       "    <tr>\n",
       "      <th>21</th>\n",
       "      <td>Manipur</td>\n",
       "      <td>1279</td>\n",
       "      <td>0</td>\n",
       "      <td>617</td>\n",
       "      <td>662</td>\n",
       "    </tr>\n",
       "    <tr>\n",
       "      <th>22</th>\n",
       "      <td>Meghalaya</td>\n",
       "      <td>56</td>\n",
       "      <td>1</td>\n",
       "      <td>42</td>\n",
       "      <td>13</td>\n",
       "    </tr>\n",
       "    <tr>\n",
       "      <th>23</th>\n",
       "      <td>Mizoram</td>\n",
       "      <td>162</td>\n",
       "      <td>0</td>\n",
       "      <td>126</td>\n",
       "      <td>36</td>\n",
       "    </tr>\n",
       "    <tr>\n",
       "      <th>24</th>\n",
       "      <td>Nagaland</td>\n",
       "      <td>501</td>\n",
       "      <td>0</td>\n",
       "      <td>182</td>\n",
       "      <td>319</td>\n",
       "    </tr>\n",
       "    <tr>\n",
       "      <th>25</th>\n",
       "      <td>Odisha</td>\n",
       "      <td>7545</td>\n",
       "      <td>27</td>\n",
       "      <td>5502</td>\n",
       "      <td>2016</td>\n",
       "    </tr>\n",
       "    <tr>\n",
       "      <th>26</th>\n",
       "      <td>Puducherry</td>\n",
       "      <td>802</td>\n",
       "      <td>12</td>\n",
       "      <td>331</td>\n",
       "      <td>459</td>\n",
       "    </tr>\n",
       "    <tr>\n",
       "      <th>27</th>\n",
       "      <td>Punjab</td>\n",
       "      <td>5784</td>\n",
       "      <td>152</td>\n",
       "      <td>4144</td>\n",
       "      <td>1488</td>\n",
       "    </tr>\n",
       "    <tr>\n",
       "      <th>28</th>\n",
       "      <td>Rajasthan</td>\n",
       "      <td>18662</td>\n",
       "      <td>430</td>\n",
       "      <td>14948</td>\n",
       "      <td>3284</td>\n",
       "    </tr>\n",
       "    <tr>\n",
       "      <th>29</th>\n",
       "      <td>Sikkim</td>\n",
       "      <td>102</td>\n",
       "      <td>0</td>\n",
       "      <td>53</td>\n",
       "      <td>49</td>\n",
       "    </tr>\n",
       "    <tr>\n",
       "      <th>30</th>\n",
       "      <td>Tamil Nadu</td>\n",
       "      <td>98392</td>\n",
       "      <td>1321</td>\n",
       "      <td>56021</td>\n",
       "      <td>41050</td>\n",
       "    </tr>\n",
       "    <tr>\n",
       "      <th>31</th>\n",
       "      <td>Telangana</td>\n",
       "      <td>18570</td>\n",
       "      <td>275</td>\n",
       "      <td>9069</td>\n",
       "      <td>9226</td>\n",
       "    </tr>\n",
       "    <tr>\n",
       "      <th>32</th>\n",
       "      <td>Tripura</td>\n",
       "      <td>1435</td>\n",
       "      <td>1</td>\n",
       "      <td>1146</td>\n",
       "      <td>288</td>\n",
       "    </tr>\n",
       "    <tr>\n",
       "      <th>33</th>\n",
       "      <td>Uttarakhand</td>\n",
       "      <td>2984</td>\n",
       "      <td>42</td>\n",
       "      <td>2405</td>\n",
       "      <td>537</td>\n",
       "    </tr>\n",
       "    <tr>\n",
       "      <th>34</th>\n",
       "      <td>Uttar Pradesh</td>\n",
       "      <td>24825</td>\n",
       "      <td>735</td>\n",
       "      <td>17221</td>\n",
       "      <td>6869</td>\n",
       "    </tr>\n",
       "  </tbody>\n",
       "</table>\n",
       "</div>"
      ],
      "text/plain": [
       "                                       State Total cases Deaths Recoveries  \\\n",
       "0                Andaman and Nicobar Islands         109      0         51   \n",
       "1                             Andhra Pradesh       16097    198       7313   \n",
       "2                          Arunachal Pradesh         195      1         66   \n",
       "3                                      Assam    9,013[b]     12       6106   \n",
       "4                                      Bihar       10471     77       8020   \n",
       "5                                 Chandigarh         450      6        389   \n",
       "6                               Chhattisgarh        3013     14       2385   \n",
       "7   Dadra and Nagar Haveli and Daman and Diu         230      0         89   \n",
       "8                                      Delhi       92175   2864      63007   \n",
       "9                                        Goa        1482      4        734   \n",
       "10                                   Gujarat       33913   1886      24593   \n",
       "11                                   Haryana       15509    251      11019   \n",
       "12                          Himachal Pradesh        1014     10        628   \n",
       "13                         Jammu and Kashmir        7849    115       4974   \n",
       "14                                 Jharkhand        2584     15       1983   \n",
       "15                                 Karnataka       18016    272       8334   \n",
       "16                                    Kerala        4753  25[c]       2640   \n",
       "17                                    Ladakh         990      1        730   \n",
       "18                               Lakshadweep           0      0          0   \n",
       "19                            Madhya Pradesh       14106    589      10815   \n",
       "20                               Maharashtra      186626   8178     101172   \n",
       "21                                   Manipur        1279      0        617   \n",
       "22                                 Meghalaya          56      1         42   \n",
       "23                                   Mizoram         162      0        126   \n",
       "24                                  Nagaland         501      0        182   \n",
       "25                                    Odisha        7545     27       5502   \n",
       "26                                Puducherry         802     12        331   \n",
       "27                                    Punjab        5784    152       4144   \n",
       "28                                 Rajasthan       18662    430      14948   \n",
       "29                                    Sikkim         102      0         53   \n",
       "30                                Tamil Nadu       98392   1321      56021   \n",
       "31                                 Telangana       18570    275       9069   \n",
       "32                                   Tripura        1435      1       1146   \n",
       "33                               Uttarakhand        2984     42       2405   \n",
       "34                             Uttar Pradesh       24825    735      17221   \n",
       "\n",
       "   Active cases  \n",
       "0            58  \n",
       "1          8586  \n",
       "2           128  \n",
       "3          2895  \n",
       "4          2374  \n",
       "5            55  \n",
       "6           614  \n",
       "7           141  \n",
       "8         26304  \n",
       "9           744  \n",
       "10         7434  \n",
       "11         4239  \n",
       "12          376  \n",
       "13         2760  \n",
       "14          586  \n",
       "15         9410  \n",
       "16         2088  \n",
       "17          259  \n",
       "18            0  \n",
       "19         2702  \n",
       "20        77276  \n",
       "21          662  \n",
       "22           13  \n",
       "23           36  \n",
       "24          319  \n",
       "25         2016  \n",
       "26          459  \n",
       "27         1488  \n",
       "28         3284  \n",
       "29           49  \n",
       "30        41050  \n",
       "31         9226  \n",
       "32          288  \n",
       "33          537  \n",
       "34         6869  "
      ]
     },
     "execution_count": 47,
     "metadata": {},
     "output_type": "execute_result"
    }
   ],
   "source": [
    "covid19"
   ]
  },
  {
   "cell_type": "code",
   "execution_count": 48,
   "metadata": {},
   "outputs": [
    {
     "data": {
      "text/html": [
       "<div>\n",
       "<style scoped>\n",
       "    .dataframe tbody tr th:only-of-type {\n",
       "        vertical-align: middle;\n",
       "    }\n",
       "\n",
       "    .dataframe tbody tr th {\n",
       "        vertical-align: top;\n",
       "    }\n",
       "\n",
       "    .dataframe thead th {\n",
       "        text-align: right;\n",
       "    }\n",
       "</style>\n",
       "<table border=\"1\" class=\"dataframe\">\n",
       "  <thead>\n",
       "    <tr style=\"text-align: right;\">\n",
       "      <th></th>\n",
       "      <th>State</th>\n",
       "      <th>Latitude</th>\n",
       "      <th>Longitude</th>\n",
       "      <th>Total cases</th>\n",
       "      <th>Deaths</th>\n",
       "      <th>Recoveries</th>\n",
       "      <th>Active cases</th>\n",
       "    </tr>\n",
       "  </thead>\n",
       "  <tbody>\n",
       "    <tr>\n",
       "      <th>0</th>\n",
       "      <td>Andhra Pradesh</td>\n",
       "      <td>15.91</td>\n",
       "      <td>79.74</td>\n",
       "      <td>16097</td>\n",
       "      <td>198</td>\n",
       "      <td>7313</td>\n",
       "      <td>8586</td>\n",
       "    </tr>\n",
       "    <tr>\n",
       "      <th>1</th>\n",
       "      <td>Arunachal Pradesh</td>\n",
       "      <td>28.21</td>\n",
       "      <td>94.72</td>\n",
       "      <td>195</td>\n",
       "      <td>1</td>\n",
       "      <td>66</td>\n",
       "      <td>128</td>\n",
       "    </tr>\n",
       "    <tr>\n",
       "      <th>2</th>\n",
       "      <td>Assam</td>\n",
       "      <td>26.20</td>\n",
       "      <td>92.93</td>\n",
       "      <td>9,013[b]</td>\n",
       "      <td>12</td>\n",
       "      <td>6106</td>\n",
       "      <td>2895</td>\n",
       "    </tr>\n",
       "    <tr>\n",
       "      <th>3</th>\n",
       "      <td>Bihar</td>\n",
       "      <td>25.09</td>\n",
       "      <td>85.31</td>\n",
       "      <td>10471</td>\n",
       "      <td>77</td>\n",
       "      <td>8020</td>\n",
       "      <td>2374</td>\n",
       "    </tr>\n",
       "    <tr>\n",
       "      <th>4</th>\n",
       "      <td>Chhattisgarh</td>\n",
       "      <td>21.27</td>\n",
       "      <td>81.86</td>\n",
       "      <td>3013</td>\n",
       "      <td>14</td>\n",
       "      <td>2385</td>\n",
       "      <td>614</td>\n",
       "    </tr>\n",
       "  </tbody>\n",
       "</table>\n",
       "</div>"
      ],
      "text/plain": [
       "               State  Latitude  Longitude Total cases Deaths Recoveries  \\\n",
       "0     Andhra Pradesh     15.91      79.74       16097    198       7313   \n",
       "1  Arunachal Pradesh     28.21      94.72         195      1         66   \n",
       "2              Assam     26.20      92.93    9,013[b]     12       6106   \n",
       "3              Bihar     25.09      85.31       10471     77       8020   \n",
       "4       Chhattisgarh     21.27      81.86        3013     14       2385   \n",
       "\n",
       "  Active cases  \n",
       "0         8586  \n",
       "1          128  \n",
       "2         2895  \n",
       "3         2374  \n",
       "4          614  "
      ]
     },
     "execution_count": 48,
     "metadata": {},
     "output_type": "execute_result"
    }
   ],
   "source": [
    "final_Table = pd.merge(dataset, covid19, how ='inner', on ='State')\n",
    "final_Table.head()"
   ]
  },
  {
   "cell_type": "code",
   "execution_count": 49,
   "metadata": {},
   "outputs": [],
   "source": [
    "india = folium.Map(location = [20.5937,78.9629],zoom_start=4.5) \n"
   ]
  },
  {
   "cell_type": "code",
   "execution_count": 50,
   "metadata": {},
   "outputs": [
    {
     "data": {
      "text/html": [
       "<div style=\"width:100%;\"><div style=\"position:relative;width:100%;height:0;padding-bottom:60%;\"><span style=\"color:#565656\">Make this Notebook Trusted to load map: File -> Trust Notebook</span><iframe src=\"about:blank\" style=\"position:absolute;width:100%;height:100%;left:0;top:0;border:none !important;\" data-html=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 onload=\"this.contentDocument.open();this.contentDocument.write(atob(this.getAttribute('data-html')));this.contentDocument.close();\" allowfullscreen webkitallowfullscreen mozallowfullscreen></iframe></div></div>"
      ],
      "text/plain": [
       "<folium.folium.Map at 0x1ae5123b888>"
      ]
     },
     "execution_count": 50,
     "metadata": {},
     "output_type": "execute_result"
    }
   ],
   "source": [
    "india"
   ]
  },
  {
   "cell_type": "code",
   "execution_count": 51,
   "metadata": {},
   "outputs": [],
   "source": [
    "for state,lat,long,total_cases,Death,Recov,Active in zip(list(final_Table['State']),list(final_Table['Latitude']),list(final_Table['Longitude']),list(final_Table['Total cases']),list(final_Table['Deaths']),list(final_Table['Recoveries']),list(final_Table['Active cases'])):    \n",
    "    folium.CircleMarker(location = [lat,long],radius = 20,color='red',fill = True,fill_color=\"red\").add_to(india)\n",
    "    folium.Marker(location = [lat,long],\n",
    "                  # adding information that need to be displayed on popup\n",
    "                  popup=folium.Popup(('<strong><b>State  : '+state+'</strong> <br>' +\n",
    "                    '<strong><b>Total Cases : '+total_cases+'</striong><br>' +\n",
    "                    '<strong><font color= red>Deaths : </font>'+Death+'</striong><br>' +\n",
    "                    '<strong><font color=green>Recoveries : </font>'+Recov+'</striong><br>' +\n",
    "                    '<strong><b>Active Cases : '+Active+'</striong>' ),max_width=200)).add_to(india)\n",
    "  "
   ]
  },
  {
   "cell_type": "code",
   "execution_count": 52,
   "metadata": {},
   "outputs": [
    {
     "data": {
      "text/html": [
       "<div style=\"width:100%;\"><div style=\"position:relative;width:100%;height:0;padding-bottom:60%;\"><span style=\"color:#565656\">Make this Notebook Trusted to load map: File -> Trust Notebook</span><iframe src=\"about:blank\" style=\"position:absolute;width:100%;height:100%;left:0;top:0;border:none !important;\" data-html=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 onload=\"this.contentDocument.open();this.contentDocument.write(atob(this.getAttribute('data-html')));this.contentDocument.close();\" allowfullscreen webkitallowfullscreen mozallowfullscreen></iframe></div></div>"
      ],
      "text/plain": [
       "<folium.folium.Map at 0x1ae5123b888>"
      ]
     },
     "execution_count": 52,
     "metadata": {},
     "output_type": "execute_result"
    }
   ],
   "source": [
    "india"
   ]
  },
  {
   "cell_type": "code",
   "execution_count": 53,
   "metadata": {},
   "outputs": [],
   "source": [
    "india.save('covid19.html')"
   ]
  },
  {
   "cell_type": "code",
   "execution_count": null,
   "metadata": {},
   "outputs": [],
   "source": []
  }
 ],
 "metadata": {
  "kernelspec": {
   "display_name": "Python 3",
   "language": "python",
   "name": "python3"
  },
  "language_info": {
   "codemirror_mode": {
    "name": "ipython",
    "version": 3
   },
   "file_extension": ".py",
   "mimetype": "text/x-python",
   "name": "python",
   "nbconvert_exporter": "python",
   "pygments_lexer": "ipython3",
   "version": "3.7.6"
  }
 },
 "nbformat": 4,
 "nbformat_minor": 4
}
